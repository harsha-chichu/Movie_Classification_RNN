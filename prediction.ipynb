{
 "cells": [
  {
   "cell_type": "code",
   "execution_count": 2,
   "id": "e7730da3",
   "metadata": {},
   "outputs": [],
   "source": [
    "import numpy as np\n",
    "import tensorflow as tf\n",
    "from tensorflow.keras.datasets import imdb\n",
    "from tensorflow.keras.preprocessing import sequence\n",
    "from tensorflow.keras.models import load_model"
   ]
  },
  {
   "cell_type": "code",
   "execution_count": 3,
   "id": "b2f2039d",
   "metadata": {},
   "outputs": [],
   "source": [
    "word_index = imdb.get_word_index()\n",
    "# word_index\n",
    "rev_index = {v: k for k, v in word_index.items()}"
   ]
  },
  {
   "cell_type": "code",
   "execution_count": 6,
   "id": "08cb1db8",
   "metadata": {},
   "outputs": [
    {
     "name": "stderr",
     "output_type": "stream",
     "text": [
      "c:\\Users\\Dell\\OneDrive\\Desktop\\SimpleRNN\\venv\\lib\\site-packages\\keras\\src\\saving\\saving_lib.py:802: UserWarning: Skipping variable loading for optimizer 'rmsprop', because it has 8 variables whereas the saved optimizer has 14 variables. \n",
      "  saveable.load_own_variables(weights_store.get(inner_path))\n"
     ]
    },
    {
     "data": {
      "text/html": [
       "<pre style=\"white-space:pre;overflow-x:auto;line-height:normal;font-family:Menlo,'DejaVu Sans Mono',consolas,'Courier New',monospace\"><span style=\"font-weight: bold\">Model: \"sequential_4\"</span>\n",
       "</pre>\n"
      ],
      "text/plain": [
       "\u001b[1mModel: \"sequential_4\"\u001b[0m\n"
      ]
     },
     "metadata": {},
     "output_type": "display_data"
    },
    {
     "data": {
      "text/html": [
       "<pre style=\"white-space:pre;overflow-x:auto;line-height:normal;font-family:Menlo,'DejaVu Sans Mono',consolas,'Courier New',monospace\">┏━━━━━━━━━━━━━━━━━━━━━━━━━━━━━━━━━┳━━━━━━━━━━━━━━━━━━━━━━━━┳━━━━━━━━━━━━━━━┓\n",
       "┃<span style=\"font-weight: bold\"> Layer (type)                    </span>┃<span style=\"font-weight: bold\"> Output Shape           </span>┃<span style=\"font-weight: bold\">       Param # </span>┃\n",
       "┡━━━━━━━━━━━━━━━━━━━━━━━━━━━━━━━━━╇━━━━━━━━━━━━━━━━━━━━━━━━╇━━━━━━━━━━━━━━━┩\n",
       "│ embedding_4 (<span style=\"color: #0087ff; text-decoration-color: #0087ff\">Embedding</span>)         │ (<span style=\"color: #00d7ff; text-decoration-color: #00d7ff\">None</span>, <span style=\"color: #00af00; text-decoration-color: #00af00\">500</span>, <span style=\"color: #00af00; text-decoration-color: #00af00\">128</span>)       │     <span style=\"color: #00af00; text-decoration-color: #00af00\">1,280,000</span> │\n",
       "├─────────────────────────────────┼────────────────────────┼───────────────┤\n",
       "│ simple_rnn_4 (<span style=\"color: #0087ff; text-decoration-color: #0087ff\">SimpleRNN</span>)        │ (<span style=\"color: #00d7ff; text-decoration-color: #00d7ff\">None</span>, <span style=\"color: #00af00; text-decoration-color: #00af00\">128</span>)            │        <span style=\"color: #00af00; text-decoration-color: #00af00\">32,896</span> │\n",
       "├─────────────────────────────────┼────────────────────────┼───────────────┤\n",
       "│ dense_4 (<span style=\"color: #0087ff; text-decoration-color: #0087ff\">Dense</span>)                 │ (<span style=\"color: #00d7ff; text-decoration-color: #00d7ff\">None</span>, <span style=\"color: #00af00; text-decoration-color: #00af00\">1</span>)              │           <span style=\"color: #00af00; text-decoration-color: #00af00\">129</span> │\n",
       "└─────────────────────────────────┴────────────────────────┴───────────────┘\n",
       "</pre>\n"
      ],
      "text/plain": [
       "┏━━━━━━━━━━━━━━━━━━━━━━━━━━━━━━━━━┳━━━━━━━━━━━━━━━━━━━━━━━━┳━━━━━━━━━━━━━━━┓\n",
       "┃\u001b[1m \u001b[0m\u001b[1mLayer (type)                   \u001b[0m\u001b[1m \u001b[0m┃\u001b[1m \u001b[0m\u001b[1mOutput Shape          \u001b[0m\u001b[1m \u001b[0m┃\u001b[1m \u001b[0m\u001b[1m      Param #\u001b[0m\u001b[1m \u001b[0m┃\n",
       "┡━━━━━━━━━━━━━━━━━━━━━━━━━━━━━━━━━╇━━━━━━━━━━━━━━━━━━━━━━━━╇━━━━━━━━━━━━━━━┩\n",
       "│ embedding_4 (\u001b[38;5;33mEmbedding\u001b[0m)         │ (\u001b[38;5;45mNone\u001b[0m, \u001b[38;5;34m500\u001b[0m, \u001b[38;5;34m128\u001b[0m)       │     \u001b[38;5;34m1,280,000\u001b[0m │\n",
       "├─────────────────────────────────┼────────────────────────┼───────────────┤\n",
       "│ simple_rnn_4 (\u001b[38;5;33mSimpleRNN\u001b[0m)        │ (\u001b[38;5;45mNone\u001b[0m, \u001b[38;5;34m128\u001b[0m)            │        \u001b[38;5;34m32,896\u001b[0m │\n",
       "├─────────────────────────────────┼────────────────────────┼───────────────┤\n",
       "│ dense_4 (\u001b[38;5;33mDense\u001b[0m)                 │ (\u001b[38;5;45mNone\u001b[0m, \u001b[38;5;34m1\u001b[0m)              │           \u001b[38;5;34m129\u001b[0m │\n",
       "└─────────────────────────────────┴────────────────────────┴───────────────┘\n"
      ]
     },
     "metadata": {},
     "output_type": "display_data"
    },
    {
     "data": {
      "text/html": [
       "<pre style=\"white-space:pre;overflow-x:auto;line-height:normal;font-family:Menlo,'DejaVu Sans Mono',consolas,'Courier New',monospace\"><span style=\"font-weight: bold\"> Total params: </span><span style=\"color: #00af00; text-decoration-color: #00af00\">2,626,052</span> (10.02 MB)\n",
       "</pre>\n"
      ],
      "text/plain": [
       "\u001b[1m Total params: \u001b[0m\u001b[38;5;34m2,626,052\u001b[0m (10.02 MB)\n"
      ]
     },
     "metadata": {},
     "output_type": "display_data"
    },
    {
     "data": {
      "text/html": [
       "<pre style=\"white-space:pre;overflow-x:auto;line-height:normal;font-family:Menlo,'DejaVu Sans Mono',consolas,'Courier New',monospace\"><span style=\"font-weight: bold\"> Trainable params: </span><span style=\"color: #00af00; text-decoration-color: #00af00\">1,313,025</span> (5.01 MB)\n",
       "</pre>\n"
      ],
      "text/plain": [
       "\u001b[1m Trainable params: \u001b[0m\u001b[38;5;34m1,313,025\u001b[0m (5.01 MB)\n"
      ]
     },
     "metadata": {},
     "output_type": "display_data"
    },
    {
     "data": {
      "text/html": [
       "<pre style=\"white-space:pre;overflow-x:auto;line-height:normal;font-family:Menlo,'DejaVu Sans Mono',consolas,'Courier New',monospace\"><span style=\"font-weight: bold\"> Non-trainable params: </span><span style=\"color: #00af00; text-decoration-color: #00af00\">0</span> (0.00 B)\n",
       "</pre>\n"
      ],
      "text/plain": [
       "\u001b[1m Non-trainable params: \u001b[0m\u001b[38;5;34m0\u001b[0m (0.00 B)\n"
      ]
     },
     "metadata": {},
     "output_type": "display_data"
    },
    {
     "data": {
      "text/html": [
       "<pre style=\"white-space:pre;overflow-x:auto;line-height:normal;font-family:Menlo,'DejaVu Sans Mono',consolas,'Courier New',monospace\"><span style=\"font-weight: bold\"> Optimizer params: </span><span style=\"color: #00af00; text-decoration-color: #00af00\">1,313,027</span> (5.01 MB)\n",
       "</pre>\n"
      ],
      "text/plain": [
       "\u001b[1m Optimizer params: \u001b[0m\u001b[38;5;34m1,313,027\u001b[0m (5.01 MB)\n"
      ]
     },
     "metadata": {},
     "output_type": "display_data"
    }
   ],
   "source": [
    "model = load_model('imdb_rnn_model.keras')\n",
    "model.summary()"
   ]
  },
  {
   "cell_type": "code",
   "execution_count": 7,
   "id": "e924deab",
   "metadata": {},
   "outputs": [
    {
     "data": {
      "text/plain": [
       "[array([[ 0.10008226,  0.03814144,  0.11434201, ...,  0.26384455,\n",
       "         -0.2945717 ,  0.25279373],\n",
       "        [-0.00613735, -0.07138865,  0.07251846, ...,  0.04477463,\n",
       "          0.0264982 , -0.01763343],\n",
       "        [ 0.05472243,  0.13230067,  0.04053402, ...,  0.16773069,\n",
       "         -0.00200131,  0.02814571],\n",
       "        ...,\n",
       "        [ 0.08114453, -0.05547282, -0.09300371, ..., -0.07790677,\n",
       "         -0.07422571,  0.06378271],\n",
       "        [-0.01359072,  0.00066848, -0.01729525, ...,  0.06451813,\n",
       "          0.0541277 , -0.05089616],\n",
       "        [ 0.12719277, -0.12535332, -0.09772631, ..., -0.10305604,\n",
       "         -0.03227708,  0.0984057 ]], dtype=float32),\n",
       " array([[-0.01334396, -0.05548424,  0.15405783, ...,  0.06924127,\n",
       "          0.1716084 , -0.0611566 ],\n",
       "        [-0.13888939, -0.2136515 , -0.14997184, ...,  0.07117542,\n",
       "          0.05592839, -0.09569494],\n",
       "        [-0.11702781, -0.1757508 , -0.10297553, ...,  0.15265325,\n",
       "         -0.08493678, -0.2070435 ],\n",
       "        ...,\n",
       "        [ 0.00429825, -0.21081617, -0.09441229, ...,  0.12023902,\n",
       "         -0.07145213,  0.00984083],\n",
       "        [-0.00323853, -0.13678277, -0.14031507, ...,  0.14148368,\n",
       "         -0.14226368, -0.11818057],\n",
       "        [ 0.20443965,  0.0284295 , -0.15057547, ..., -0.15005708,\n",
       "          0.0270252 ,  0.04520903]], dtype=float32),\n",
       " array([[-0.04114067, -0.05406569,  0.14512824, ..., -0.08825789,\n",
       "          0.10250235,  0.1352964 ],\n",
       "        [-0.10895591,  0.00310844,  0.08738331, ..., -0.15512607,\n",
       "         -0.11659487, -0.05249119],\n",
       "        [-0.11702418, -0.02570824, -0.02839454, ..., -0.2082129 ,\n",
       "          0.07200405, -0.07301637],\n",
       "        ...,\n",
       "        [ 0.03693039,  0.05899138, -0.0666891 , ..., -0.04697086,\n",
       "          0.06859827,  0.19551729],\n",
       "        [-0.12405705, -0.10240164,  0.04489529, ..., -0.02574886,\n",
       "          0.0026651 ,  0.16334102],\n",
       "        [-0.21836098,  0.14400287, -0.13575083, ..., -0.1442633 ,\n",
       "          0.06698471,  0.02961439]], dtype=float32),\n",
       " array([-0.07788417,  0.00534136, -0.00482678, -0.08856472, -0.0512124 ,\n",
       "        -0.01434266,  0.04121752,  0.04191902, -0.05434098, -0.07274208,\n",
       "        -0.00742687,  0.00456375,  0.02597596, -0.02696331,  0.02198767,\n",
       "        -0.03033493, -0.02592028,  0.0050546 , -0.0246226 , -0.05015653,\n",
       "         0.01678021,  0.03761559, -0.08305892,  0.06616957, -0.07630547,\n",
       "         0.01495024,  0.03220603, -0.02989361,  0.01307951, -0.05411729,\n",
       "         0.00601939, -0.01072136, -0.03867358, -0.05308317, -0.03785367,\n",
       "        -0.02326269, -0.00614466, -0.01727017, -0.01438399, -0.00244382,\n",
       "        -0.02802807, -0.0004936 , -0.00686023,  0.04005004, -0.02709148,\n",
       "        -0.06380977, -0.0657378 ,  0.02111155,  0.01485672, -0.06675712,\n",
       "         0.01897478,  0.01688507, -0.04084859, -0.05081368, -0.04604221,\n",
       "         0.0142532 , -0.00504902, -0.08068302,  0.00604268, -0.02641478,\n",
       "         0.03905959, -0.03263509,  0.00787021,  0.00926027,  0.01745148,\n",
       "         0.02144818, -0.05838123, -0.04507633,  0.01889139, -0.04891267,\n",
       "         0.01240906,  0.00173484,  0.00257116, -0.03978545,  0.00539922,\n",
       "        -0.07522634,  0.01895189,  0.09559178,  0.01099587,  0.03727765,\n",
       "         0.04559714, -0.02656352, -0.04046319, -0.04552419, -0.06610234,\n",
       "         0.02655161, -0.05033091,  0.00395826, -0.03846811,  0.00251715,\n",
       "         0.00638449,  0.01204107, -0.00385868, -0.03789626,  0.04196469,\n",
       "         0.08652624, -0.05482873, -0.04464078,  0.01051985,  0.04462306,\n",
       "        -0.03349188, -0.01425856, -0.02852966,  0.00457439,  0.02049858,\n",
       "         0.0441677 ,  0.05179783,  0.04179158,  0.03090476,  0.07544988,\n",
       "        -0.01694378, -0.04827204, -0.0557983 ,  0.03632414,  0.00122694,\n",
       "         0.01457744,  0.041152  ,  0.02988241,  0.05191153, -0.05302217,\n",
       "        -0.04541079,  0.00051334, -0.06322104,  0.03127889,  0.04947041,\n",
       "        -0.0403418 ,  0.01163653,  0.05337811], dtype=float32),\n",
       " array([[-8.86984020e-02],\n",
       "        [ 1.70916513e-01],\n",
       "        [ 2.27191865e-01],\n",
       "        [ 9.72545668e-02],\n",
       "        [ 1.48150474e-01],\n",
       "        [-2.29596198e-01],\n",
       "        [-3.91714573e-02],\n",
       "        [-1.44303724e-01],\n",
       "        [-1.13082603e-02],\n",
       "        [ 2.08051935e-01],\n",
       "        [-4.55154061e-01],\n",
       "        [ 4.77330349e-02],\n",
       "        [-1.88947439e-01],\n",
       "        [ 2.71059304e-01],\n",
       "        [ 2.01439291e-01],\n",
       "        [-8.72145523e-04],\n",
       "        [-3.28746915e-01],\n",
       "        [ 1.05984136e-01],\n",
       "        [ 1.18178234e-01],\n",
       "        [ 3.35928649e-01],\n",
       "        [ 4.50416794e-03],\n",
       "        [-1.85934454e-01],\n",
       "        [ 1.84995010e-01],\n",
       "        [ 2.63942182e-01],\n",
       "        [-7.13974386e-02],\n",
       "        [ 9.81285200e-02],\n",
       "        [ 2.65839323e-02],\n",
       "        [-1.85560100e-02],\n",
       "        [ 6.94666803e-02],\n",
       "        [-1.37519687e-01],\n",
       "        [ 2.61819035e-01],\n",
       "        [ 2.17519253e-01],\n",
       "        [-4.62137043e-01],\n",
       "        [ 1.04628801e-01],\n",
       "        [ 1.04767330e-01],\n",
       "        [ 3.80278602e-02],\n",
       "        [ 2.19683852e-02],\n",
       "        [ 8.41057450e-02],\n",
       "        [ 6.96632192e-02],\n",
       "        [ 1.48786038e-01],\n",
       "        [-3.01832408e-02],\n",
       "        [ 1.97556823e-01],\n",
       "        [ 4.41263579e-02],\n",
       "        [-1.28628343e-01],\n",
       "        [ 4.75478202e-01],\n",
       "        [ 1.21812694e-01],\n",
       "        [-2.20249221e-01],\n",
       "        [-1.50912538e-01],\n",
       "        [ 6.03162684e-02],\n",
       "        [ 2.01599956e-01],\n",
       "        [ 1.16851270e-01],\n",
       "        [ 1.40448436e-01],\n",
       "        [ 2.42992803e-01],\n",
       "        [ 1.36412516e-01],\n",
       "        [ 1.19442724e-01],\n",
       "        [ 1.49251651e-02],\n",
       "        [ 5.04150502e-02],\n",
       "        [ 1.24248266e-01],\n",
       "        [ 1.41825333e-01],\n",
       "        [-2.08249912e-01],\n",
       "        [-1.88264340e-01],\n",
       "        [ 8.87987018e-02],\n",
       "        [ 2.65430570e-01],\n",
       "        [-2.28476629e-01],\n",
       "        [ 2.10727483e-01],\n",
       "        [-3.19530427e-01],\n",
       "        [ 1.15533851e-01],\n",
       "        [ 3.11700344e-01],\n",
       "        [ 1.36383727e-01],\n",
       "        [ 3.15838348e-04],\n",
       "        [-3.26418765e-02],\n",
       "        [ 1.44191697e-01],\n",
       "        [ 3.34645092e-01],\n",
       "        [-5.34275696e-02],\n",
       "        [ 9.89347994e-02],\n",
       "        [-4.65168744e-01],\n",
       "        [-3.78163576e-01],\n",
       "        [ 3.78320485e-01],\n",
       "        [-6.29737675e-01],\n",
       "        [-7.11504882e-03],\n",
       "        [ 9.56617519e-02],\n",
       "        [ 2.18623027e-01],\n",
       "        [-1.38244824e-02],\n",
       "        [ 8.21192712e-02],\n",
       "        [ 7.85877332e-02],\n",
       "        [-1.86994761e-01],\n",
       "        [-1.29773885e-01],\n",
       "        [-1.11940287e-01],\n",
       "        [-2.34274909e-01],\n",
       "        [ 1.05155192e-01],\n",
       "        [-9.50694978e-02],\n",
       "        [ 4.78317112e-01],\n",
       "        [ 3.55904624e-02],\n",
       "        [ 5.42145312e-01],\n",
       "        [-1.11737043e-01],\n",
       "        [-8.03035125e-02],\n",
       "        [ 5.37731051e-02],\n",
       "        [ 1.47655532e-01],\n",
       "        [ 5.31347692e-02],\n",
       "        [ 6.75956786e-01],\n",
       "        [-1.21680073e-01],\n",
       "        [ 1.68605715e-01],\n",
       "        [ 2.40000650e-01],\n",
       "        [-2.03751326e-01],\n",
       "        [ 2.32504189e-01],\n",
       "        [-1.69690385e-01],\n",
       "        [-7.04741552e-02],\n",
       "        [ 7.27043077e-02],\n",
       "        [-2.42033631e-01],\n",
       "        [-9.51616019e-02],\n",
       "        [-5.02341509e-01],\n",
       "        [ 1.22598283e-01],\n",
       "        [-1.19938150e-01],\n",
       "        [-9.11777020e-02],\n",
       "        [-3.06654066e-01],\n",
       "        [ 2.01041624e-01],\n",
       "        [ 5.93708873e-01],\n",
       "        [ 1.23314872e-01],\n",
       "        [-1.64415404e-01],\n",
       "        [ 2.52107739e-01],\n",
       "        [-1.63796350e-01],\n",
       "        [ 1.68696851e-01],\n",
       "        [ 9.88115147e-02],\n",
       "        [-9.77061614e-02],\n",
       "        [-2.09043831e-01],\n",
       "        [ 1.97526664e-01],\n",
       "        [ 2.25889534e-01],\n",
       "        [ 3.89425904e-01]], dtype=float32),\n",
       " array([0.08382381], dtype=float32)]"
      ]
     },
     "execution_count": 7,
     "metadata": {},
     "output_type": "execute_result"
    }
   ],
   "source": [
    "model.get_weights()"
   ]
  },
  {
   "cell_type": "code",
   "execution_count": 11,
   "id": "97f05c57",
   "metadata": {},
   "outputs": [],
   "source": [
    "def decode_review(encoded_review):\n",
    "    decoded_review = ' '.join([rev_index.get(i - 3, '?') for i in encoded_review])\n",
    "    return decoded_review\n",
    "\n",
    "def preprocess_review(text):\n",
    "    words = text.lower().split()\n",
    "    encoded_review = [word_index.get(word, 2) + 3 for word in words]\n",
    "    padded_review = sequence.pad_sequences([encoded_review], maxlen=500)\n",
    "    return padded_review\n",
    "\n"
   ]
  },
  {
   "cell_type": "code",
   "execution_count": 12,
   "id": "2fcab757",
   "metadata": {},
   "outputs": [],
   "source": [
    "def predict_sentiment(review):\n",
    "    preprocessed_input = preprocess_review(review)\n",
    "\n",
    "    prediction = model.predict(preprocessed_input)\n",
    "\n",
    "    sentiment = 'positive' if prediction[0][0] > 0.5 else 'negative'\n",
    "\n",
    "    return sentiment, prediction[0][0]\n"
   ]
  },
  {
   "cell_type": "code",
   "execution_count": 13,
   "id": "ab4c5619",
   "metadata": {},
   "outputs": [
    {
     "name": "stdout",
     "output_type": "stream",
     "text": [
      "\u001b[1m1/1\u001b[0m \u001b[32m━━━━━━━━━━━━━━━━━━━━\u001b[0m\u001b[37m\u001b[0m \u001b[1m0s\u001b[0m 380ms/step\n",
      "Review: This movie was fantastic! I loved it.\n",
      "Sentiment: positive, Score: 0.9844\n"
     ]
    }
   ],
   "source": [
    "example_review = \"This movie was fantastic! I loved it.\"\n",
    "\n",
    "sentiment, score = predict_sentiment(example_review)\n",
    "\n",
    "print(f\"Review: {example_review}\")\n",
    "print(f\"Sentiment: {sentiment}, Score: {score:.4f}\")"
   ]
  },
  {
   "cell_type": "code",
   "execution_count": null,
   "id": "bd0346ef",
   "metadata": {},
   "outputs": [],
   "source": []
  }
 ],
 "metadata": {
  "kernelspec": {
   "display_name": "venv",
   "language": "python",
   "name": "python3"
  },
  "language_info": {
   "codemirror_mode": {
    "name": "ipython",
    "version": 3
   },
   "file_extension": ".py",
   "mimetype": "text/x-python",
   "name": "python",
   "nbconvert_exporter": "python",
   "pygments_lexer": "ipython3",
   "version": "3.10.9"
  }
 },
 "nbformat": 4,
 "nbformat_minor": 5
}
